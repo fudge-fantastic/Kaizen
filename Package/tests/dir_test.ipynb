{
 "cells": [
  {
   "cell_type": "code",
   "execution_count": 10,
   "metadata": {},
   "outputs": [
    {
     "name": "stdout",
     "output_type": "stream",
     "text": [
      "d:\\MLOps\\MLOps\\tests\n",
      "d:\\MLOps\\MLOps\n",
      "None\n"
     ]
    }
   ],
   "source": [
    "import os\n",
    "#import MLPackages\n",
    "import sys\n",
    "import pathlib\n",
    "\n",
    "p1 = os.getcwd()\n",
    "p2 = os.path.dirname(p1)\n",
    "p3 = os.path.join(p2)\n",
    "print(p1)\n",
    "print(p2)\n",
    "print(sys.path.append(p3))"
   ]
  },
  {
   "cell_type": "code",
   "execution_count": 11,
   "metadata": {},
   "outputs": [
    {
     "name": "stdout",
     "output_type": "stream",
     "text": [
      "d:\\MLOps\\MLOps\n"
     ]
    }
   ],
   "source": [
    "parent_dir = os.path.abspath(os.path.join(os.getcwd(), os.pardir))\n",
    "print(parent_dir)\n",
    "# Add the parent directory to the Python path\n",
    "# sys.path.append(parent_dir)"
   ]
  },
  {
   "cell_type": "code",
   "execution_count": 13,
   "metadata": {},
   "outputs": [
    {
     "data": {
      "text/plain": [
       "'1.0.0'"
      ]
     },
     "execution_count": 13,
     "metadata": {},
     "output_type": "execute_result"
    }
   ],
   "source": [
    "import MLPackages\n",
    "MLPackages.__version__"
   ]
  }
 ],
 "metadata": {
  "kernelspec": {
   "display_name": "venv",
   "language": "python",
   "name": "python3"
  },
  "language_info": {
   "codemirror_mode": {
    "name": "ipython",
    "version": 3
   },
   "file_extension": ".py",
   "mimetype": "text/x-python",
   "name": "python",
   "nbconvert_exporter": "python",
   "pygments_lexer": "ipython3",
   "version": "3.11.8"
  }
 },
 "nbformat": 4,
 "nbformat_minor": 2
}
